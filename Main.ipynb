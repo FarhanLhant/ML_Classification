{
  "nbformat": 4,
  "nbformat_minor": 0,
  "metadata": {
    "colab": {
      "name": "Tubes_ML_Clasification.ipynb",
      "provenance": []
    },
    "kernelspec": {
      "name": "python3",
      "display_name": "Python 3"
    },
    "language_info": {
      "name": "python"
    }
  },
  "cells": [
    {
      "cell_type": "code",
      "metadata": {
        "id": "8dPwdsaciN-R",
        "colab": {
          "base_uri": "https://localhost:8080/"
        },
        "outputId": "1382756d-0bba-4c3e-c578-aebcedaac63c"
      },
      "source": [
        "# Import Library\n",
        "import pandas as pd\n",
        "import numpy as np\n",
        "import seaborn as sns\n",
        "import matplotlib.pyplot as plt\n",
        "from sklearn.model_selection import train_test_split\n",
        "from sklearn.linear_model import LogisticRegression\n",
        "from sklearn.metrics import accuracy_score, f1_score, confusion_matrix, recall_score, classification_report\n",
        "import statsmodels.api as sm\n",
        "%matplotlib inline\n",
        "import warnings\n",
        "\n",
        "warnings.filterwarnings('ignore')\n",
        "\n",
        "pd.set_option('display.float_format', lambda x: '%.3f' % x)"
      ],
      "execution_count": 1,
      "outputs": [
        {
          "output_type": "stream",
          "text": [
            "/usr/local/lib/python3.7/dist-packages/statsmodels/tools/_testing.py:19: FutureWarning: pandas.util.testing is deprecated. Use the functions in the public API at pandas.testing instead.\n",
            "  import pandas.util.testing as tm\n"
          ],
          "name": "stderr"
        }
      ]
    },
    {
      "cell_type": "code",
      "metadata": {
        "colab": {
          "base_uri": "https://localhost:8080/",
          "height": 218
        },
        "id": "uaT9P9VRyDy5",
        "outputId": "67b51a7b-056b-4ecb-ce33-8beb2debdd9b"
      },
      "source": [
        "# data train url\n",
        "# i saved the data set on github\n",
        "url_train = 'https://raw.githubusercontent.com/indraone001/ML_Dataset/main/salju_train.csv'\n",
        "\n",
        "# read csv file using pandas\n",
        "data = pd.read_csv(url_train)\n",
        "data.head()"
      ],
      "execution_count": 2,
      "outputs": [
        {
          "output_type": "execute_result",
          "data": {
            "text/html": [
              "<div>\n",
              "<style scoped>\n",
              "    .dataframe tbody tr th:only-of-type {\n",
              "        vertical-align: middle;\n",
              "    }\n",
              "\n",
              "    .dataframe tbody tr th {\n",
              "        vertical-align: top;\n",
              "    }\n",
              "\n",
              "    .dataframe thead th {\n",
              "        text-align: right;\n",
              "    }\n",
              "</style>\n",
              "<table border=\"1\" class=\"dataframe\">\n",
              "  <thead>\n",
              "    <tr style=\"text-align: right;\">\n",
              "      <th></th>\n",
              "      <th>id</th>\n",
              "      <th>Tanggal</th>\n",
              "      <th>KodeLokasi</th>\n",
              "      <th>SuhuMin</th>\n",
              "      <th>SuhuMax</th>\n",
              "      <th>Hujan</th>\n",
              "      <th>Penguapan</th>\n",
              "      <th>SinarMatahari</th>\n",
              "      <th>ArahAnginTerkencang</th>\n",
              "      <th>KecepatanAnginTerkencang</th>\n",
              "      <th>ArahAngin9am</th>\n",
              "      <th>ArahAngin3pm</th>\n",
              "      <th>KecepatanAngin9am</th>\n",
              "      <th>KecepatanAngin3pm</th>\n",
              "      <th>Kelembaban9am</th>\n",
              "      <th>Kelembaban3pm</th>\n",
              "      <th>Tekanan9am</th>\n",
              "      <th>Tekanan3pm</th>\n",
              "      <th>Awan9am</th>\n",
              "      <th>Awan3pm</th>\n",
              "      <th>Suhu9am</th>\n",
              "      <th>Suhu3pm</th>\n",
              "      <th>BersaljuHariIni</th>\n",
              "      <th>BersaljuBesok</th>\n",
              "    </tr>\n",
              "  </thead>\n",
              "  <tbody>\n",
              "    <tr>\n",
              "      <th>0</th>\n",
              "      <td>1</td>\n",
              "      <td>01/06/2014</td>\n",
              "      <td>C4</td>\n",
              "      <td>10.400</td>\n",
              "      <td>15.500</td>\n",
              "      <td>4.800</td>\n",
              "      <td>nan</td>\n",
              "      <td>nan</td>\n",
              "      <td>WSW</td>\n",
              "      <td>24.000</td>\n",
              "      <td>NaN</td>\n",
              "      <td>WSW</td>\n",
              "      <td>0.000</td>\n",
              "      <td>13.000</td>\n",
              "      <td>78.000</td>\n",
              "      <td>76.000</td>\n",
              "      <td>1020.100</td>\n",
              "      <td>1018.500</td>\n",
              "      <td>nan</td>\n",
              "      <td>nan</td>\n",
              "      <td>13.100</td>\n",
              "      <td>15.000</td>\n",
              "      <td>Ya</td>\n",
              "      <td>Tidak</td>\n",
              "    </tr>\n",
              "    <tr>\n",
              "      <th>1</th>\n",
              "      <td>2</td>\n",
              "      <td>15/07/2014</td>\n",
              "      <td>C10</td>\n",
              "      <td>9.000</td>\n",
              "      <td>17.000</td>\n",
              "      <td>8.000</td>\n",
              "      <td>2.600</td>\n",
              "      <td>7.400</td>\n",
              "      <td>NaN</td>\n",
              "      <td>nan</td>\n",
              "      <td>SW</td>\n",
              "      <td>WNW</td>\n",
              "      <td>13.000</td>\n",
              "      <td>20.000</td>\n",
              "      <td>80.000</td>\n",
              "      <td>61.000</td>\n",
              "      <td>1015.200</td>\n",
              "      <td>1014.600</td>\n",
              "      <td>7.000</td>\n",
              "      <td>5.000</td>\n",
              "      <td>11.900</td>\n",
              "      <td>15.500</td>\n",
              "      <td>Ya</td>\n",
              "      <td>Ya</td>\n",
              "    </tr>\n",
              "    <tr>\n",
              "      <th>2</th>\n",
              "      <td>3</td>\n",
              "      <td>16/02/2011</td>\n",
              "      <td>C46</td>\n",
              "      <td>18.200</td>\n",
              "      <td>32.000</td>\n",
              "      <td>0.000</td>\n",
              "      <td>nan</td>\n",
              "      <td>nan</td>\n",
              "      <td>ESE</td>\n",
              "      <td>44.000</td>\n",
              "      <td>SE</td>\n",
              "      <td>SE</td>\n",
              "      <td>15.000</td>\n",
              "      <td>26.000</td>\n",
              "      <td>62.000</td>\n",
              "      <td>42.000</td>\n",
              "      <td>nan</td>\n",
              "      <td>nan</td>\n",
              "      <td>nan</td>\n",
              "      <td>nan</td>\n",
              "      <td>23.800</td>\n",
              "      <td>29.600</td>\n",
              "      <td>Tidak</td>\n",
              "      <td>Tidak</td>\n",
              "    </tr>\n",
              "    <tr>\n",
              "      <th>3</th>\n",
              "      <td>4</td>\n",
              "      <td>08/08/2012</td>\n",
              "      <td>C36</td>\n",
              "      <td>7.300</td>\n",
              "      <td>24.500</td>\n",
              "      <td>0.000</td>\n",
              "      <td>8.400</td>\n",
              "      <td>10.400</td>\n",
              "      <td>SSW</td>\n",
              "      <td>54.000</td>\n",
              "      <td>N</td>\n",
              "      <td>SW</td>\n",
              "      <td>13.000</td>\n",
              "      <td>19.000</td>\n",
              "      <td>25.000</td>\n",
              "      <td>17.000</td>\n",
              "      <td>1019.200</td>\n",
              "      <td>1016.900</td>\n",
              "      <td>1.000</td>\n",
              "      <td>7.000</td>\n",
              "      <td>15.300</td>\n",
              "      <td>23.200</td>\n",
              "      <td>Tidak</td>\n",
              "      <td>Tidak</td>\n",
              "    </tr>\n",
              "    <tr>\n",
              "      <th>4</th>\n",
              "      <td>5</td>\n",
              "      <td>29/10/2016</td>\n",
              "      <td>C7</td>\n",
              "      <td>5.900</td>\n",
              "      <td>20.300</td>\n",
              "      <td>0.000</td>\n",
              "      <td>3.600</td>\n",
              "      <td>12.600</td>\n",
              "      <td>N</td>\n",
              "      <td>37.000</td>\n",
              "      <td>NNW</td>\n",
              "      <td>ESE</td>\n",
              "      <td>22.000</td>\n",
              "      <td>19.000</td>\n",
              "      <td>55.000</td>\n",
              "      <td>48.000</td>\n",
              "      <td>1019.700</td>\n",
              "      <td>1014.700</td>\n",
              "      <td>2.000</td>\n",
              "      <td>6.000</td>\n",
              "      <td>12.400</td>\n",
              "      <td>18.100</td>\n",
              "      <td>Tidak</td>\n",
              "      <td>Tidak</td>\n",
              "    </tr>\n",
              "  </tbody>\n",
              "</table>\n",
              "</div>"
            ],
            "text/plain": [
              "   id     Tanggal KodeLokasi  ...  Suhu3pm  BersaljuHariIni  BersaljuBesok\n",
              "0   1  01/06/2014         C4  ...   15.000               Ya          Tidak\n",
              "1   2  15/07/2014        C10  ...   15.500               Ya             Ya\n",
              "2   3  16/02/2011        C46  ...   29.600            Tidak          Tidak\n",
              "3   4  08/08/2012        C36  ...   23.200            Tidak          Tidak\n",
              "4   5  29/10/2016         C7  ...   18.100            Tidak          Tidak\n",
              "\n",
              "[5 rows x 24 columns]"
            ]
          },
          "metadata": {
            "tags": []
          },
          "execution_count": 2
        }
      ]
    },
    {
      "cell_type": "code",
      "metadata": {
        "id": "ugy0qZcBx89L"
      },
      "source": [
        "# drop unused variable\n",
        "data.drop(['KodeLokasi','Tanggal'], axis=1, inplace=True)"
      ],
      "execution_count": 3,
      "outputs": []
    },
    {
      "cell_type": "code",
      "metadata": {
        "id": "5HxgvvDCzd_V"
      },
      "source": [
        "# categorical Data\n",
        "# Fill in mssing value\n",
        "data[['ArahAnginTerkencang','ArahAngin9am','ArahAngin3pm','BersaljuHariIni']] = \\\n",
        "data[['ArahAnginTerkencang','ArahAngin9am','ArahAngin3pm','BersaljuHariIni']].fillna('unknown')\n",
        "\n",
        "# change data types\n",
        "data[['ArahAnginTerkencang','ArahAngin9am','ArahAngin3pm','BersaljuHariIni','BersaljuBesok']] = \\\n",
        "data[['ArahAnginTerkencang','ArahAngin9am','ArahAngin3pm','BersaljuHariIni','BersaljuBesok']].astype('category')"
      ],
      "execution_count": 4,
      "outputs": []
    },
    {
      "cell_type": "code",
      "metadata": {
        "id": "1fTqocEH0_Tm"
      },
      "source": [
        "# Numerical Data\n",
        "numerical = data.select_dtypes(include='number')\n",
        "numerical.describe()\n",
        "numerical.isna().sum()/len(data)\n",
        "data.drop(['Penguapan','SinarMatahari','Awan3pm'], axis=1, inplace=True)"
      ],
      "execution_count": 5,
      "outputs": []
    },
    {
      "cell_type": "code",
      "metadata": {
        "id": "2kgRFuJP1zVa"
      },
      "source": [
        "# input missing value\n",
        "med_ = data[['SuhuMin','SuhuMax','Hujan','KecepatanAnginTerkencang','KecepatanAngin9am','KecepatanAngin3pm','Kelembaban9am','Tekanan9am',\\\n",
        "             'Tekanan3pm','Suhu9am','Suhu3pm']]\n",
        "men_ = data[['Kelembaban3pm','Awan9am']]\n",
        "\n",
        "for col in med_:\n",
        "    col_median=data[col].median()\n",
        "    data[col].fillna(col_median, inplace=True)\n",
        "    \n",
        "for col_ in men_:\n",
        "    col_mean=data[col_].mean()\n",
        "    data[col_].fillna(col_mean,inplace=True)"
      ],
      "execution_count": 6,
      "outputs": []
    },
    {
      "cell_type": "code",
      "metadata": {
        "id": "gbqnshXn2IDQ"
      },
      "source": [
        "# remove outliers\n",
        "Q1 = numerical.quantile(0.25)\n",
        "Q3 = numerical.quantile(0.75)\n",
        "IQR = Q3 - Q1"
      ],
      "execution_count": 7,
      "outputs": []
    },
    {
      "cell_type": "code",
      "metadata": {
        "colab": {
          "base_uri": "https://localhost:8080/"
        },
        "id": "5a8s8q8UoGzK",
        "outputId": "e07953e5-35bf-4b0e-e9c6-a4197c965ead"
      },
      "source": [
        "# count outliers\n",
        "data_wo_outliers = data[~((numerical < (Q1 - 1.5 * IQR)) |(numerical > (Q3 + 1.5 * IQR))).any(axis=1)]\n",
        "data_wo_outliers.shape"
      ],
      "execution_count": 8,
      "outputs": [
        {
          "output_type": "execute_result",
          "data": {
            "text/plain": [
              "(84059, 19)"
            ]
          },
          "metadata": {
            "tags": []
          },
          "execution_count": 8
        }
      ]
    },
    {
      "cell_type": "code",
      "metadata": {
        "colab": {
          "base_uri": "https://localhost:8080/",
          "height": 285
        },
        "id": "a4I4KVYYqexP",
        "outputId": "c70615db-6c10-4cda-9a08-a2de039e2149"
      },
      "source": [
        "# Eplanatory Data Analysis\n",
        "# Check prortion class target\n",
        "data['BersaljuBesok'].value_counts().plot(kind = 'pie', labels = [ 'Tidak berslaju','Bersalju'])\n",
        "print('Bersalju', round(data['BersaljuBesok'].value_counts()['Ya']/len(data) * 100), '%')\n",
        "print('Tidak Bersalju', round(data['BersaljuBesok'].value_counts()['Tidak']/len(data) * 100), '%')"
      ],
      "execution_count": 36,
      "outputs": [
        {
          "output_type": "stream",
          "text": [
            "Bersalju 22 %\n",
            "Tidak Bersalju 76 %\n"
          ],
          "name": "stdout"
        },
        {
          "output_type": "display_data",
          "data": {
            "image/png": "[encoded data removed]",
            "text/plain": [
              "<Figure size 432x288 with 1 Axes>"
            ]
          },
          "metadata": {
            "tags": []
          }
        }
      ]
    },
    {
      "cell_type": "code",
      "metadata": {
        "colab": {
          "base_uri": "https://localhost:8080/",
          "height": 128
        },
        "id": "6qoCTqcoY-RO",
        "outputId": "bcdc1899-87b0-456e-c159-ea8765bebab4"
      },
      "source": [
        "# Logistic Regression\n",
        "\n",
        "cat_columns = data.select_dtypes(['category']).columns\n",
        "data_new = pd.get_dummies(data, columns = cat_columns, drop_first = True)\n",
        "data_new.head(2)"
      ],
      "execution_count": 10,
      "outputs": [
        {
          "output_type": "execute_result",
          "data": {
            "text/html": [
              "<div>\n",
              "<style scoped>\n",
              "    .dataframe tbody tr th:only-of-type {\n",
              "        vertical-align: middle;\n",
              "    }\n",
              "\n",
              "    .dataframe tbody tr th {\n",
              "        vertical-align: top;\n",
              "    }\n",
              "\n",
              "    .dataframe thead th {\n",
              "        text-align: right;\n",
              "    }\n",
              "</style>\n",
              "<table border=\"1\" class=\"dataframe\">\n",
              "  <thead>\n",
              "    <tr style=\"text-align: right;\">\n",
              "      <th></th>\n",
              "      <th>id</th>\n",
              "      <th>SuhuMin</th>\n",
              "      <th>SuhuMax</th>\n",
              "      <th>Hujan</th>\n",
              "      <th>KecepatanAnginTerkencang</th>\n",
              "      <th>KecepatanAngin9am</th>\n",
              "      <th>KecepatanAngin3pm</th>\n",
              "      <th>Kelembaban9am</th>\n",
              "      <th>Kelembaban3pm</th>\n",
              "      <th>Tekanan9am</th>\n",
              "      <th>Tekanan3pm</th>\n",
              "      <th>Awan9am</th>\n",
              "      <th>Suhu9am</th>\n",
              "      <th>Suhu3pm</th>\n",
              "      <th>ArahAnginTerkencang_ENE</th>\n",
              "      <th>ArahAnginTerkencang_ESE</th>\n",
              "      <th>ArahAnginTerkencang_N</th>\n",
              "      <th>ArahAnginTerkencang_NE</th>\n",
              "      <th>ArahAnginTerkencang_NNE</th>\n",
              "      <th>ArahAnginTerkencang_NNW</th>\n",
              "      <th>ArahAnginTerkencang_NW</th>\n",
              "      <th>ArahAnginTerkencang_S</th>\n",
              "      <th>ArahAnginTerkencang_SE</th>\n",
              "      <th>ArahAnginTerkencang_SSE</th>\n",
              "      <th>ArahAnginTerkencang_SSW</th>\n",
              "      <th>ArahAnginTerkencang_SW</th>\n",
              "      <th>ArahAnginTerkencang_W</th>\n",
              "      <th>ArahAnginTerkencang_WNW</th>\n",
              "      <th>ArahAnginTerkencang_WSW</th>\n",
              "      <th>ArahAnginTerkencang_unknown</th>\n",
              "      <th>ArahAngin9am_ENE</th>\n",
              "      <th>ArahAngin9am_ESE</th>\n",
              "      <th>ArahAngin9am_N</th>\n",
              "      <th>ArahAngin9am_NE</th>\n",
              "      <th>ArahAngin9am_NNE</th>\n",
              "      <th>ArahAngin9am_NNW</th>\n",
              "      <th>ArahAngin9am_NW</th>\n",
              "      <th>ArahAngin9am_S</th>\n",
              "      <th>ArahAngin9am_SE</th>\n",
              "      <th>ArahAngin9am_SSE</th>\n",
              "      <th>ArahAngin9am_SSW</th>\n",
              "      <th>ArahAngin9am_SW</th>\n",
              "      <th>ArahAngin9am_W</th>\n",
              "      <th>ArahAngin9am_WNW</th>\n",
              "      <th>ArahAngin9am_WSW</th>\n",
              "      <th>ArahAngin9am_unknown</th>\n",
              "      <th>ArahAngin3pm_ENE</th>\n",
              "      <th>ArahAngin3pm_ESE</th>\n",
              "      <th>ArahAngin3pm_N</th>\n",
              "      <th>ArahAngin3pm_NE</th>\n",
              "      <th>ArahAngin3pm_NNE</th>\n",
              "      <th>ArahAngin3pm_NNW</th>\n",
              "      <th>ArahAngin3pm_NW</th>\n",
              "      <th>ArahAngin3pm_S</th>\n",
              "      <th>ArahAngin3pm_SE</th>\n",
              "      <th>ArahAngin3pm_SSE</th>\n",
              "      <th>ArahAngin3pm_SSW</th>\n",
              "      <th>ArahAngin3pm_SW</th>\n",
              "      <th>ArahAngin3pm_W</th>\n",
              "      <th>ArahAngin3pm_WNW</th>\n",
              "      <th>ArahAngin3pm_WSW</th>\n",
              "      <th>ArahAngin3pm_unknown</th>\n",
              "      <th>BersaljuHariIni_Ya</th>\n",
              "      <th>BersaljuHariIni_unknown</th>\n",
              "      <th>BersaljuBesok_Ya</th>\n",
              "    </tr>\n",
              "  </thead>\n",
              "  <tbody>\n",
              "    <tr>\n",
              "      <th>0</th>\n",
              "      <td>1</td>\n",
              "      <td>10.400</td>\n",
              "      <td>15.500</td>\n",
              "      <td>4.800</td>\n",
              "      <td>24.000</td>\n",
              "      <td>0.000</td>\n",
              "      <td>13.000</td>\n",
              "      <td>78.000</td>\n",
              "      <td>76.000</td>\n",
              "      <td>1020.100</td>\n",
              "      <td>1018.500</td>\n",
              "      <td>4.451</td>\n",
              "      <td>13.100</td>\n",
              "      <td>15.000</td>\n",
              "      <td>0</td>\n",
              "      <td>0</td>\n",
              "      <td>0</td>\n",
              "      <td>0</td>\n",
              "      <td>0</td>\n",
              "      <td>0</td>\n",
              "      <td>0</td>\n",
              "      <td>0</td>\n",
              "      <td>0</td>\n",
              "      <td>0</td>\n",
              "      <td>0</td>\n",
              "      <td>0</td>\n",
              "      <td>0</td>\n",
              "      <td>0</td>\n",
              "      <td>1</td>\n",
              "      <td>0</td>\n",
              "      <td>0</td>\n",
              "      <td>0</td>\n",
              "      <td>0</td>\n",
              "      <td>0</td>\n",
              "      <td>0</td>\n",
              "      <td>0</td>\n",
              "      <td>0</td>\n",
              "      <td>0</td>\n",
              "      <td>0</td>\n",
              "      <td>0</td>\n",
              "      <td>0</td>\n",
              "      <td>0</td>\n",
              "      <td>0</td>\n",
              "      <td>0</td>\n",
              "      <td>0</td>\n",
              "      <td>1</td>\n",
              "      <td>0</td>\n",
              "      <td>0</td>\n",
              "      <td>0</td>\n",
              "      <td>0</td>\n",
              "      <td>0</td>\n",
              "      <td>0</td>\n",
              "      <td>0</td>\n",
              "      <td>0</td>\n",
              "      <td>0</td>\n",
              "      <td>0</td>\n",
              "      <td>0</td>\n",
              "      <td>0</td>\n",
              "      <td>0</td>\n",
              "      <td>0</td>\n",
              "      <td>1</td>\n",
              "      <td>0</td>\n",
              "      <td>1</td>\n",
              "      <td>0</td>\n",
              "      <td>0</td>\n",
              "    </tr>\n",
              "    <tr>\n",
              "      <th>1</th>\n",
              "      <td>2</td>\n",
              "      <td>9.000</td>\n",
              "      <td>17.000</td>\n",
              "      <td>8.000</td>\n",
              "      <td>39.000</td>\n",
              "      <td>13.000</td>\n",
              "      <td>20.000</td>\n",
              "      <td>80.000</td>\n",
              "      <td>61.000</td>\n",
              "      <td>1015.200</td>\n",
              "      <td>1014.600</td>\n",
              "      <td>7.000</td>\n",
              "      <td>11.900</td>\n",
              "      <td>15.500</td>\n",
              "      <td>0</td>\n",
              "      <td>0</td>\n",
              "      <td>0</td>\n",
              "      <td>0</td>\n",
              "      <td>0</td>\n",
              "      <td>0</td>\n",
              "      <td>0</td>\n",
              "      <td>0</td>\n",
              "      <td>0</td>\n",
              "      <td>0</td>\n",
              "      <td>0</td>\n",
              "      <td>0</td>\n",
              "      <td>0</td>\n",
              "      <td>0</td>\n",
              "      <td>0</td>\n",
              "      <td>1</td>\n",
              "      <td>0</td>\n",
              "      <td>0</td>\n",
              "      <td>0</td>\n",
              "      <td>0</td>\n",
              "      <td>0</td>\n",
              "      <td>0</td>\n",
              "      <td>0</td>\n",
              "      <td>0</td>\n",
              "      <td>0</td>\n",
              "      <td>0</td>\n",
              "      <td>0</td>\n",
              "      <td>1</td>\n",
              "      <td>0</td>\n",
              "      <td>0</td>\n",
              "      <td>0</td>\n",
              "      <td>0</td>\n",
              "      <td>0</td>\n",
              "      <td>0</td>\n",
              "      <td>0</td>\n",
              "      <td>0</td>\n",
              "      <td>0</td>\n",
              "      <td>0</td>\n",
              "      <td>0</td>\n",
              "      <td>0</td>\n",
              "      <td>0</td>\n",
              "      <td>0</td>\n",
              "      <td>0</td>\n",
              "      <td>0</td>\n",
              "      <td>0</td>\n",
              "      <td>1</td>\n",
              "      <td>0</td>\n",
              "      <td>0</td>\n",
              "      <td>1</td>\n",
              "      <td>0</td>\n",
              "      <td>1</td>\n",
              "    </tr>\n",
              "  </tbody>\n",
              "</table>\n",
              "</div>"
            ],
            "text/plain": [
              "   id  SuhuMin  ...  BersaljuHariIni_unknown  BersaljuBesok_Ya\n",
              "0   1   10.400  ...                        0                 0\n",
              "1   2    9.000  ...                        0                 1\n",
              "\n",
              "[2 rows x 65 columns]"
            ]
          },
          "metadata": {
            "tags": []
          },
          "execution_count": 10
        }
      ]
    },
    {
      "cell_type": "code",
      "metadata": {
        "colab": {
          "base_uri": "https://localhost:8080/"
        },
        "id": "JxIlKA5kZjt2",
        "outputId": "40f19881-3453-42ae-f654-16d924e77477"
      },
      "source": [
        "#separate predictor and target\n",
        "X = data_new.drop('BersaljuBesok_Ya', axis=1)\n",
        "y = data_new.BersaljuBesok_Ya.values\n",
        "\n",
        "#setting up testing and training sets\n",
        "X_train, X_test, y_train, y_test = train_test_split(X, y, test_size=0.2, random_state=42)\n",
        "print(\"X_train:\",X_train.shape)\n",
        "print(\"X_test:\",X_test.shape)\n",
        "print(\"y_train:\",y_train.shape)\n",
        "print(\"y_test:\",y_test.shape)"
      ],
      "execution_count": 11,
      "outputs": [
        {
          "output_type": "stream",
          "text": [
            "X_train: (87276, 64)\n",
            "X_test: (21819, 64)\n",
            "y_train: (87276,)\n",
            "y_test: (21819,)\n"
          ],
          "name": "stdout"
        }
      ]
    },
    {
      "cell_type": "code",
      "metadata": {
        "id": "0dONWke6Znqq"
      },
      "source": [
        "lr = LogisticRegression(multi_class='ovr',solver='liblinear').fit(X_train, y_train)\n",
        "lr_pred = lr.predict(X_test)"
      ],
      "execution_count": 12,
      "outputs": []
    },
    {
      "cell_type": "code",
      "metadata": {
        "colab": {
          "base_uri": "https://localhost:8080/"
        },
        "id": "g9-gq3xKZsrU",
        "outputId": "8dfc07d5-57c7-456b-a7d4-3f80f0e3a98b"
      },
      "source": [
        "logit_acc1 = accuracy_score(y_test, lr_pred)\n",
        "print('Accuracy:', logit_acc1)"
      ],
      "execution_count": 13,
      "outputs": [
        {
          "output_type": "stream",
          "text": [
            "Accuracy: 0.83702277831248\n"
          ],
          "name": "stdout"
        }
      ]
    },
    {
      "cell_type": "code",
      "metadata": {
        "colab": {
          "base_uri": "https://localhost:8080/",
          "height": 228
        },
        "id": "rkS6Or_rFUKL",
        "outputId": "dcb00c4e-67a8-4dcb-e92b-6db5723605c0"
      },
      "source": [
        "# Multicolinearity\n",
        "# gather features\n",
        "col_dat = data_wo_outliers.drop(['BersaljuBesok'],axis=1)\n",
        "features = \"+\".join(col_dat.columns)\n",
        "\n",
        "from sklearn import metrics\n",
        "from patsy import dmatrices\n",
        "y, X = dmatrices('BersaljuBesok ~' + features, data_wo_outliers, return_type='dataframe')\n",
        "\n",
        "from statsmodels.stats.outliers_influence import variance_inflation_factor\n",
        "vif = pd.DataFrame()\n",
        "vif[\"VIF Factor\"] = [variance_inflation_factor(X.values, i) for i in range(X.shape[1])]\n",
        "vif[\"features\"] = X.columns\n",
        "\n",
        "vif[vif[\"VIF Factor\"]>10]"
      ],
      "execution_count": 14,
      "outputs": [
        {
          "output_type": "execute_result",
          "data": {
            "text/html": [
              "<div>\n",
              "<style scoped>\n",
              "    .dataframe tbody tr th:only-of-type {\n",
              "        vertical-align: middle;\n",
              "    }\n",
              "\n",
              "    .dataframe tbody tr th {\n",
              "        vertical-align: top;\n",
              "    }\n",
              "\n",
              "    .dataframe thead th {\n",
              "        text-align: right;\n",
              "    }\n",
              "</style>\n",
              "<table border=\"1\" class=\"dataframe\">\n",
              "  <thead>\n",
              "    <tr style=\"text-align: right;\">\n",
              "      <th></th>\n",
              "      <th>VIF Factor</th>\n",
              "      <th>features</th>\n",
              "    </tr>\n",
              "  </thead>\n",
              "  <tbody>\n",
              "    <tr>\n",
              "      <th>0</th>\n",
              "      <td>48012.588</td>\n",
              "      <td>Intercept</td>\n",
              "    </tr>\n",
              "    <tr>\n",
              "      <th>53</th>\n",
              "      <td>22.540</td>\n",
              "      <td>SuhuMax</td>\n",
              "    </tr>\n",
              "    <tr>\n",
              "      <th>60</th>\n",
              "      <td>20.843</td>\n",
              "      <td>Tekanan9am</td>\n",
              "    </tr>\n",
              "    <tr>\n",
              "      <th>61</th>\n",
              "      <td>20.880</td>\n",
              "      <td>Tekanan3pm</td>\n",
              "    </tr>\n",
              "    <tr>\n",
              "      <th>63</th>\n",
              "      <td>18.050</td>\n",
              "      <td>Suhu9am</td>\n",
              "    </tr>\n",
              "    <tr>\n",
              "      <th>64</th>\n",
              "      <td>22.221</td>\n",
              "      <td>Suhu3pm</td>\n",
              "    </tr>\n",
              "  </tbody>\n",
              "</table>\n",
              "</div>"
            ],
            "text/plain": [
              "    VIF Factor    features\n",
              "0    48012.588   Intercept\n",
              "53      22.540     SuhuMax\n",
              "60      20.843  Tekanan9am\n",
              "61      20.880  Tekanan3pm\n",
              "63      18.050     Suhu9am\n",
              "64      22.221     Suhu3pm"
            ]
          },
          "metadata": {
            "tags": []
          },
          "execution_count": 14
        }
      ]
    },
    {
      "cell_type": "code",
      "metadata": {
        "colab": {
          "base_uri": "https://localhost:8080/",
          "height": 371
        },
        "id": "Zw3TE5WJFoHI",
        "outputId": "ff664735-cda1-4702-bfb6-687f449d3c00"
      },
      "source": [
        "cor_death = data_wo_outliers[['SuhuMax','Tekanan9am','Tekanan3pm','Suhu9am','Suhu3pm']]\n",
        "pd.set_option('precision', 3)\n",
        "correlation=cor_death.corr(method='pearson')\n",
        "# heatmap of the correlation \n",
        "plt.figure(figsize=(5,5))\n",
        "mask = np.zeros_like(correlation)\n",
        "mask[np.triu_indices_from(mask)] = True\n",
        "with sns.axes_style(\"white\"):\n",
        "    f, ax = plt.subplots(figsize=(5, 5))\n",
        "    ax = sns.heatmap(correlation, mask=mask, square=True,annot=True,vmin=-1,vmax=1,cmap=\"YlOrRd_r\")"
      ],
      "execution_count": 15,
      "outputs": [
        {
          "output_type": "display_data",
          "data": {
            "text/plain": [
              "<Figure size 360x360 with 0 Axes>"
            ]
          },
          "metadata": {
            "tags": []
          }
        },
        {
          "output_type": "display_data",
          "data": {
            "image/png": "[encoded data removed]",
            "text/plain": [
              "<Figure size 360x360 with 2 Axes>"
            ]
          },
          "metadata": {
            "tags": []
          }
        }
      ]
    },
    {
      "cell_type": "code",
      "metadata": {
        "id": "M96wodQGHl7G"
      },
      "source": [
        "# Feature Engineering\n",
        "\n",
        "X_new = data_new.drop(['Kelembaban9am','Suhu9am','Suhu3pm','ArahAnginTerkencang_ENE','ArahAnginTerkencang_N','ArahAnginTerkencang_NNW','ArahAnginTerkencang_NW',\\\n",
        "                      'ArahAnginTerkencang_S','ArahAnginTerkencang_SSW','ArahAnginTerkencang_W','ArahAnginTerkencang_WNW','ArahAnginTerkencang_WSW','ArahAnginTerkencang_unknown',\\\n",
        "                      'ArahAngin9am_NNW','ArahAngin9am_SSW','ArahAngin9am_SW','ArahAngin9am_W','ArahAngin9am_WSW','ArahAngin9am_unknown',\\\n",
        "                      'ArahAngin3pm_ENE','ArahAngin3pm_ESE','ArahAngin3pm_SE','ArahAngin3pm_SSE','ArahAngin3pm_SW','BersaljuBesok_Ya'],axis=1)\n",
        "y_new = data_new.BersaljuBesok_Ya.values\n"
      ],
      "execution_count": 16,
      "outputs": []
    },
    {
      "cell_type": "code",
      "metadata": {
        "colab": {
          "base_uri": "https://localhost:8080/"
        },
        "id": "wuadEkdWH1eC",
        "outputId": "2b5c2a30-c73f-4cb3-a830-8d1eac6f9380"
      },
      "source": [
        "# Logistic Model 2 without unsignificant variables\n",
        "\n",
        "#setting up testing and training sets\n",
        "X_train_new, X_test_new, y_train_new, y_test_new = train_test_split(X_new, y_new, test_size=0.2, random_state=42)\n",
        "\n",
        "lr_new = LogisticRegression(multi_class='ovr',solver='liblinear').fit(X_train_new, y_train_new)\n",
        "lr_pred_new= lr_new.predict(X_test_new)\n",
        "\n",
        "logit_acc2 = accuracy_score(y_test_new, lr_pred_new)\n",
        "print('Accuracy:', logit_acc2)"
      ],
      "execution_count": 17,
      "outputs": [
        {
          "output_type": "stream",
          "text": [
            "Accuracy: 0.8383977267519135\n"
          ],
          "name": "stdout"
        }
      ]
    },
    {
      "cell_type": "code",
      "metadata": {
        "colab": {
          "base_uri": "https://localhost:8080/"
        },
        "id": "iaxE5n7hILx6",
        "outputId": "918a74cf-0ed7-416e-9352-dee9db39cc1e"
      },
      "source": [
        "# Logistic Model 3 without outliers and unsignificant variables\n",
        "\n",
        "cat_columns_n = data_wo_outliers.select_dtypes(['category']).columns\n",
        "data_no_out = pd.get_dummies(data_wo_outliers, columns = cat_columns_n, drop_first = True)\n",
        "\n",
        "X_wo_out = data_no_out.drop(['Kelembaban9am','Suhu9am','Suhu3pm','ArahAnginTerkencang_ENE','ArahAnginTerkencang_N','ArahAnginTerkencang_NNW','ArahAnginTerkencang_NW',\\\n",
        "                      'ArahAnginTerkencang_S','ArahAnginTerkencang_SSW','ArahAnginTerkencang_W','ArahAnginTerkencang_WNW','ArahAnginTerkencang_WSW','ArahAnginTerkencang_unknown',\\\n",
        "                      'ArahAngin9am_NNW','ArahAngin9am_SSW','ArahAngin9am_SW','ArahAngin9am_W','ArahAngin9am_WSW','ArahAngin9am_unknown',\\\n",
        "                      'ArahAngin3pm_ENE','ArahAngin3pm_ESE','ArahAngin3pm_SE','ArahAngin3pm_SSE','ArahAngin3pm_SW','BersaljuBesok_Ya'],axis=1)\n",
        "y_wo_out = data_no_out.BersaljuBesok_Ya.values\n",
        "\n",
        "X_train_w, X_test_w, y_train_w, y_test_w = train_test_split(X_wo_out, y_wo_out, test_size=0.2, random_state=42)\n",
        "\n",
        "lr_wo = LogisticRegression(multi_class='ovr',solver='liblinear').fit(X_train_w, y_train_w)\n",
        "lr_pred_wo= lr_wo.predict(X_test_w)\n",
        "\n",
        "logit_acc3 = accuracy_score(y_test_w, lr_pred_wo)\n",
        "print('Accuracy:', logit_acc3)"
      ],
      "execution_count": 18,
      "outputs": [
        {
          "output_type": "stream",
          "text": [
            "Accuracy: 0.8642041399000714\n"
          ],
          "name": "stdout"
        }
      ]
    },
    {
      "cell_type": "code",
      "metadata": {
        "id": "LRs5kbZPAqQz"
      },
      "source": [
        "# Feature Engineering\n",
        "# Remove Multicolinearity\n",
        "\n",
        "#1. Mean between Suhu9am and Suhu3pm\n",
        "data_wo_outliers['Suhu'] = (data_wo_outliers.Suhu9am + data_wo_outliers.Suhu3pm)/2\n",
        "data_wo_outliers.drop(['Suhu9am','Suhu3pm'], axis=1, inplace=True)\n",
        "\n",
        "#2. Mean between Tekanan9am and Tekanan3pm\n",
        "data_wo_outliers['Tekanan'] = (data_wo_outliers.Tekanan9am + data_wo_outliers.Tekanan3pm)/2\n",
        "data_wo_outliers.drop(['Tekanan9am','Tekanan3pm'], axis=1, inplace=True)\n",
        "\n",
        "#3. Drop Max Suhu\n",
        "data_wo_outliers.drop(['SuhuMax'], axis=1, inplace=True)"
      ],
      "execution_count": 19,
      "outputs": []
    },
    {
      "cell_type": "code",
      "metadata": {
        "colab": {
          "base_uri": "https://localhost:8080/"
        },
        "id": "7GV46Bc4IcaC",
        "outputId": "0cbc4f9a-cbd4-4eec-8bf8-c3863b9341cf"
      },
      "source": [
        "# Logistic Model 4 without outliers and unsignificant variables, and multicolinearity\n",
        "\n",
        "cat_columns_nw = data_wo_outliers.select_dtypes(['category']).columns\n",
        "data_no_out2 = pd.get_dummies(data_wo_outliers, columns = cat_columns_nw, drop_first = True)\n",
        "\n",
        "X_wo_out2 = data_no_out2.drop(['Kelembaban9am','Tekanan','ArahAnginTerkencang_ENE','ArahAnginTerkencang_N','ArahAnginTerkencang_NNW','ArahAnginTerkencang_NW',\\\n",
        "                      'ArahAnginTerkencang_S','ArahAnginTerkencang_SSW','ArahAnginTerkencang_W','ArahAnginTerkencang_WNW','ArahAnginTerkencang_WSW','ArahAnginTerkencang_unknown',\\\n",
        "                      'ArahAngin9am_NNW','ArahAngin9am_SSW','ArahAngin9am_SW','ArahAngin9am_W','ArahAngin9am_WSW','ArahAngin9am_unknown',\\\n",
        "                      'ArahAngin3pm_ENE','ArahAngin3pm_ESE','ArahAngin3pm_SE','ArahAngin3pm_SSE','ArahAngin3pm_SW','BersaljuBesok_Ya'],axis=1)\n",
        "y_wo_out2 = data_no_out2.BersaljuBesok_Ya.values\n",
        "\n",
        "X_train_w2, X_test_w2, y_train_w2, y_test_w2 = train_test_split(X_wo_out2, y_wo_out2, test_size=0.2, random_state=42)\n",
        "\n",
        "lr_wo2 = LogisticRegression(multi_class='ovr',solver='liblinear').fit(X_train_w2, y_train_w2)\n",
        "lr_pred_wo2= lr_wo2.predict(X_test_w2)\n",
        "\n",
        "logit_acc4 = accuracy_score(y_test_w2, lr_pred_wo2)\n",
        "print('Accuracy:', logit_acc4)"
      ],
      "execution_count": 20,
      "outputs": [
        {
          "output_type": "stream",
          "text": [
            "Accuracy: 0.8505829169640733\n"
          ],
          "name": "stdout"
        }
      ]
    },
    {
      "cell_type": "code",
      "metadata": {
        "colab": {
          "base_uri": "https://localhost:8080/",
          "height": 168
        },
        "id": "ibCnpKPiI1Gx",
        "outputId": "1445af29-550b-46d7-a8d4-26b78fa2d4cf"
      },
      "source": [
        "# Model comparison\n",
        "\n",
        "comparison_logit = {'Model': ['Model Logit 1 - using original data', 'Model Logit 2 - without unsignificant variables', \\\n",
        "                              'Model Logit 3 - without outliers and unsignificant variables','Model Logit 4 - without outliers, unsignificant variables, and multicolinearity'],\\\n",
        "              'Accuracy': [round(logit_acc1, 3), round(logit_acc2, 3), round(logit_acc3, 3),round(logit_acc4, 3)]\n",
        "              }\n",
        "pd.DataFrame.from_dict(comparison_logit)"
      ],
      "execution_count": 21,
      "outputs": [
        {
          "output_type": "execute_result",
          "data": {
            "text/html": [
              "<div>\n",
              "<style scoped>\n",
              "    .dataframe tbody tr th:only-of-type {\n",
              "        vertical-align: middle;\n",
              "    }\n",
              "\n",
              "    .dataframe tbody tr th {\n",
              "        vertical-align: top;\n",
              "    }\n",
              "\n",
              "    .dataframe thead th {\n",
              "        text-align: right;\n",
              "    }\n",
              "</style>\n",
              "<table border=\"1\" class=\"dataframe\">\n",
              "  <thead>\n",
              "    <tr style=\"text-align: right;\">\n",
              "      <th></th>\n",
              "      <th>Model</th>\n",
              "      <th>Accuracy</th>\n",
              "    </tr>\n",
              "  </thead>\n",
              "  <tbody>\n",
              "    <tr>\n",
              "      <th>0</th>\n",
              "      <td>Model Logit 1 - using original data</td>\n",
              "      <td>0.837</td>\n",
              "    </tr>\n",
              "    <tr>\n",
              "      <th>1</th>\n",
              "      <td>Model Logit 2 - without unsignificant variables</td>\n",
              "      <td>0.838</td>\n",
              "    </tr>\n",
              "    <tr>\n",
              "      <th>2</th>\n",
              "      <td>Model Logit 3 - without outliers and unsignifi...</td>\n",
              "      <td>0.864</td>\n",
              "    </tr>\n",
              "    <tr>\n",
              "      <th>3</th>\n",
              "      <td>Model Logit 4 - without outliers, unsignifican...</td>\n",
              "      <td>0.851</td>\n",
              "    </tr>\n",
              "  </tbody>\n",
              "</table>\n",
              "</div>"
            ],
            "text/plain": [
              "                                               Model  Accuracy\n",
              "0                Model Logit 1 - using original data     0.837\n",
              "1    Model Logit 2 - without unsignificant variables     0.838\n",
              "2  Model Logit 3 - without outliers and unsignifi...     0.864\n",
              "3  Model Logit 4 - without outliers, unsignifican...     0.851"
            ]
          },
          "metadata": {
            "tags": []
          },
          "execution_count": 21
        }
      ]
    },
    {
      "cell_type": "code",
      "metadata": {
        "id": "ereDDczOqkcA"
      },
      "source": [
        "# Modelling\n",
        "# K-NN (K-Nearest Neighbors)\n",
        "\n",
        "# exclude categorical variable from data\n",
        "X_wo_out3 = data_wo_outliers.drop(['ArahAnginTerkencang','ArahAngin9am','ArahAngin3pm','BersaljuHariIni','BersaljuBesok'],axis=1)\n",
        "X_train_w3, X_test_w3, y_train_w3, y_test_w3 = train_test_split(X_wo_out3, y_wo_out2, test_size=0.2, random_state=42)\n"
      ],
      "execution_count": 22,
      "outputs": []
    },
    {
      "cell_type": "code",
      "metadata": {
        "id": "sFfFjoJn5fxd"
      },
      "source": [
        "# Scaling data values\n",
        "from sklearn import preprocessing\n",
        "scaler = preprocessing.MinMaxScaler()\n",
        "scaler.fit(X_wo_out3)\n",
        "X_wo_out3 = pd.DataFrame(scaler.transform(X_wo_out3), index=X_wo_out3.index, columns=X_wo_out3.columns)"
      ],
      "execution_count": 23,
      "outputs": []
    },
    {
      "cell_type": "code",
      "metadata": {
        "id": "E8DT25WU5v_T",
        "colab": {
          "base_uri": "https://localhost:8080/"
        },
        "outputId": "a9b9598a-9fda-498d-d625-1fb2d93497c1"
      },
      "source": [
        "# Create Model\n",
        "from sklearn.neighbors import KNeighborsClassifier\n",
        "classifier = KNeighborsClassifier(n_neighbors = 3)\n",
        "classifier.fit(X_train_w3,y_train_w3)\n",
        "\n",
        "knn_pred = classifier.predict(X_test_w3)\n",
        "\n",
        "score = accuracy_score(y_test_w3,knn_pred)\n",
        "print('Accuracy :',score)"
      ],
      "execution_count": 24,
      "outputs": [
        {
          "output_type": "stream",
          "text": [
            "Accuracy : 0.8304187485129669\n"
          ],
          "name": "stdout"
        }
      ]
    },
    {
      "cell_type": "code",
      "metadata": {
        "id": "WzSFRDgSuLfY",
        "colab": {
          "base_uri": "https://localhost:8080/",
          "height": 283
        },
        "outputId": "fea1d4ef-3a93-4ade-dfd9-d99d3cf2f9c2"
      },
      "source": [
        "# Matrik evaluation Logistic regresstion\n",
        "\n",
        "from sklearn.metrics import confusion_matrix\n",
        "\n",
        "cm = confusion_matrix(y_test, lr_pred)\n",
        "\n",
        "cm_matrix = pd.DataFrame(data=cm, columns=['Actual Positive:1', 'Actual Negative:0'], \n",
        "                                 index=['Predict Positive:1', 'Predict Negative:0'])\n",
        "\n",
        "sns.heatmap(cm_matrix, annot=True, fmt='d', cmap='YlGnBu')\n",
        "\n",
        "TP = cm[0,0]\n",
        "TN = cm[1,1]\n",
        "FP = cm[0,1]\n",
        "FN = cm[1,0]"
      ],
      "execution_count": 25,
      "outputs": [
        {
          "output_type": "display_data",
          "data": {
            "image/png": "[encoded data removed]",
            "text/plain": [
              "<Figure size 432x288 with 2 Axes>"
            ]
          },
          "metadata": {
            "tags": [],
            "needs_background": "light"
          }
        }
      ]
    },
    {
      "cell_type": "code",
      "metadata": {
        "id": "tbr-StsCuvFr",
        "colab": {
          "base_uri": "https://localhost:8080/"
        },
        "outputId": "e69d55c1-b9d1-4554-b651-f5ff8df320b1"
      },
      "source": [
        "# print precision score\n",
        "\n",
        "precision = TP / float(TP + FP)\n",
        "precision"
      ],
      "execution_count": 26,
      "outputs": [
        {
          "output_type": "execute_result",
          "data": {
            "text/plain": [
              "0.9522717921589373"
            ]
          },
          "metadata": {
            "tags": []
          },
          "execution_count": 26
        }
      ]
    },
    {
      "cell_type": "code",
      "metadata": {
        "id": "D80L59qqvO7H",
        "colab": {
          "base_uri": "https://localhost:8080/"
        },
        "outputId": "23fa8c17-0a3d-447b-ff5a-9dffc3036fba"
      },
      "source": [
        "# recall\n",
        "\n",
        "recall = TP / float(TP + FN)\n",
        "recall"
      ],
      "execution_count": 27,
      "outputs": [
        {
          "output_type": "execute_result",
          "data": {
            "text/plain": [
              "0.8551596727368699"
            ]
          },
          "metadata": {
            "tags": []
          },
          "execution_count": 27
        }
      ]
    },
    {
      "cell_type": "code",
      "metadata": {
        "colab": {
          "base_uri": "https://localhost:8080/"
        },
        "id": "v4yhwiI7I5t9",
        "outputId": "6a50fcaa-5588-43db-bc54-f36b5f504750"
      },
      "source": [
        "#calculate F1 logistic\n",
        "f1_logi = 2*precision*recall/(precision+recall)\n",
        "print(f1_logi)"
      ],
      "execution_count": 28,
      "outputs": [
        {
          "output_type": "stream",
          "text": [
            "0.901106846876912\n"
          ],
          "name": "stdout"
        }
      ]
    },
    {
      "cell_type": "code",
      "metadata": {
        "id": "wxZMt-a56IZf",
        "colab": {
          "base_uri": "https://localhost:8080/",
          "height": 282
        },
        "outputId": "bd7ddfde-5308-467a-aca4-02e0da10d194"
      },
      "source": [
        "# Matrik evaluation KNN\n",
        "\n",
        "cm_knn = confusion_matrix(y_test_w3, knn_pred)\n",
        "cm_matrix_knn = pd.DataFrame(data=cm_knn, columns=['Actual Positive:1', 'Actual Negative:0'], \n",
        "                                 index=['Predict Positive:1', 'Predict Negative:0'])\n",
        "sns.heatmap(cm_matrix_knn, annot=True, fmt='d', cmap='YlOrRd_r')\n",
        "\n",
        "TP_KNN = cm_knn[0,0]\n",
        "TN_KNN = cm_knn[1,1]\n",
        "FP_KNN = cm_knn[0,1]\n",
        "FN_KNN = cm_knn[1,0]"
      ],
      "execution_count": 29,
      "outputs": [
        {
          "output_type": "display_data",
          "data": {
            "image/png": "[encoded data removed]",
            "text/plain": [
              "<Figure size 432x288 with 2 Axes>"
            ]
          },
          "metadata": {
            "tags": [],
            "needs_background": "light"
          }
        }
      ]
    },
    {
      "cell_type": "code",
      "metadata": {
        "id": "kfbOavv46UbL",
        "colab": {
          "base_uri": "https://localhost:8080/"
        },
        "outputId": "40aa68e3-8f04-42be-f180-7d617fd880bf"
      },
      "source": [
        "# precision\n",
        "\n",
        "precision_knn = TP_KNN / float(TP_KNN + FP_KNN)\n",
        "precision_knn"
      ],
      "execution_count": 30,
      "outputs": [
        {
          "output_type": "execute_result",
          "data": {
            "text/plain": [
              "0.9543594808126411"
            ]
          },
          "metadata": {
            "tags": []
          },
          "execution_count": 30
        }
      ]
    },
    {
      "cell_type": "code",
      "metadata": {
        "id": "vEFGhByx6NrL",
        "colab": {
          "base_uri": "https://localhost:8080/"
        },
        "outputId": "7b793078-a847-42f8-dcc0-de7ea24b74d7"
      },
      "source": [
        "# recall\n",
        "\n",
        "recall_knn = TP_KNN / float(TP_KNN + FN_KNN)\n",
        "recall_knn"
      ],
      "execution_count": 31,
      "outputs": [
        {
          "output_type": "execute_result",
          "data": {
            "text/plain": [
              "0.8599122862772517"
            ]
          },
          "metadata": {
            "tags": []
          },
          "execution_count": 31
        }
      ]
    },
    {
      "cell_type": "code",
      "metadata": {
        "colab": {
          "base_uri": "https://localhost:8080/"
        },
        "id": "zWtty_utIsLL",
        "outputId": "50134ac1-b6d1-4bd9-8149-bcca8741eb42"
      },
      "source": [
        "#calculate F1 knn\n",
        "f1_knn = 2*precision_knn*recall_knn/(precision_knn+recall_knn)\n",
        "print(f1_knn)"
      ],
      "execution_count": 32,
      "outputs": [
        {
          "output_type": "stream",
          "text": [
            "0.9046775218161758\n"
          ],
          "name": "stdout"
        }
      ]
    },
    {
      "cell_type": "code",
      "metadata": {
        "id": "xrAkUZHrv60r",
        "colab": {
          "base_uri": "https://localhost:8080/",
          "height": 108
        },
        "outputId": "2ab49267-042c-4470-b35d-2a23bb8a2493"
      },
      "source": [
        "# Model Comparison\n",
        "\n",
        "comparison = {'Model': ['Logistic Regression', 'K-Nearest Neighbor'],\\\n",
        "              'Accuracy': [round(logit_acc3, 3), round(score, 3)],\\\n",
        "              'Precision':[round(precision, 3), round(precision_knn, 3)],\\\n",
        "              'Recall':[round(recall, 3), round(recall_knn, 3)],\n",
        "              'F1':[round(f1_logi, 3), round(f1_knn, 3)]}\n",
        "pd.DataFrame.from_dict(comparison)"
      ],
      "execution_count": 33,
      "outputs": [
        {
          "output_type": "execute_result",
          "data": {
            "text/html": [
              "<div>\n",
              "<style scoped>\n",
              "    .dataframe tbody tr th:only-of-type {\n",
              "        vertical-align: middle;\n",
              "    }\n",
              "\n",
              "    .dataframe tbody tr th {\n",
              "        vertical-align: top;\n",
              "    }\n",
              "\n",
              "    .dataframe thead th {\n",
              "        text-align: right;\n",
              "    }\n",
              "</style>\n",
              "<table border=\"1\" class=\"dataframe\">\n",
              "  <thead>\n",
              "    <tr style=\"text-align: right;\">\n",
              "      <th></th>\n",
              "      <th>Model</th>\n",
              "      <th>Accuracy</th>\n",
              "      <th>Precision</th>\n",
              "      <th>Recall</th>\n",
              "      <th>F1</th>\n",
              "    </tr>\n",
              "  </thead>\n",
              "  <tbody>\n",
              "    <tr>\n",
              "      <th>0</th>\n",
              "      <td>Logistic Regression</td>\n",
              "      <td>0.864</td>\n",
              "      <td>0.952</td>\n",
              "      <td>0.855</td>\n",
              "      <td>0.901</td>\n",
              "    </tr>\n",
              "    <tr>\n",
              "      <th>1</th>\n",
              "      <td>K-Nearest Neighbor</td>\n",
              "      <td>0.830</td>\n",
              "      <td>0.954</td>\n",
              "      <td>0.860</td>\n",
              "      <td>0.905</td>\n",
              "    </tr>\n",
              "  </tbody>\n",
              "</table>\n",
              "</div>"
            ],
            "text/plain": [
              "                 Model  Accuracy  Precision  Recall    F1\n",
              "0  Logistic Regression     0.864      0.952   0.855 0.901\n",
              "1   K-Nearest Neighbor     0.830      0.954   0.860 0.905"
            ]
          },
          "metadata": {
            "tags": []
          },
          "execution_count": 33
        }
      ]
    }
  ]
}